{
 "cells": [
  {
   "cell_type": "code",
   "execution_count": 1,
   "metadata": {},
   "outputs": [
    {
     "name": "stderr",
     "output_type": "stream",
     "text": [
      "C:\\ProgramData\\Anaconda2\\lib\\site-packages\\sklearn\\cross_validation.py:44: DeprecationWarning: This module was deprecated in version 0.18 in favor of the model_selection module into which all the refactored classes and functions are moved. Also note that the interface of the new CV iterators are different from that of this module. This module will be removed in 0.20.\n",
      "  \"This module will be removed in 0.20.\", DeprecationWarning)\n",
      "C:\\ProgramData\\Anaconda2\\lib\\site-packages\\sklearn\\grid_search.py:43: DeprecationWarning: This module was deprecated in version 0.18 in favor of the model_selection module into which all the refactored classes and functions are moved. This module will be removed in 0.20.\n",
      "  DeprecationWarning)\n"
     ]
    }
   ],
   "source": [
    "import pandas as pd\n",
    "import numpy as np\n",
    "from sklearn.preprocessing import StandardScaler, MaxAbsScaler, Binarizer\n",
    "from sklearn.preprocessing import FunctionTransformer\n",
    "from sklearn.decomposition import PCA\n",
    "from sklearn.tree import DecisionTreeClassifier\n",
    "from sklearn.pipeline import Pipeline, FeatureUnion\n",
    "from sklearn.feature_selection import SelectKBest\n",
    "from sklearn.metrics import f1_score\n",
    "from sklearn.cross_validation import train_test_split, cross_val_score\n",
    "from sklearn.grid_search import GridSearchCV\n",
    "%matplotlib inline"
   ]
  },
  {
   "cell_type": "code",
   "execution_count": 2,
   "metadata": {},
   "outputs": [
    {
     "data": {
      "text/html": [
       "<div>\n",
       "<style>\n",
       "    .dataframe thead tr:only-child th {\n",
       "        text-align: right;\n",
       "    }\n",
       "\n",
       "    .dataframe thead th {\n",
       "        text-align: left;\n",
       "    }\n",
       "\n",
       "    .dataframe tbody tr th {\n",
       "        vertical-align: top;\n",
       "    }\n",
       "</style>\n",
       "<table border=\"1\" class=\"dataframe\">\n",
       "  <thead>\n",
       "    <tr style=\"text-align: right;\">\n",
       "      <th></th>\n",
       "      <th>cuisine</th>\n",
       "      <th>cuisine_id</th>\n",
       "      <th>id</th>\n",
       "      <th>ingredient</th>\n",
       "    </tr>\n",
       "  </thead>\n",
       "  <tbody>\n",
       "    <tr>\n",
       "      <th>0</th>\n",
       "      <td>greek</td>\n",
       "      <td>10259</td>\n",
       "      <td>1</td>\n",
       "      <td>﻿romaine lettuce</td>\n",
       "    </tr>\n",
       "    <tr>\n",
       "      <th>1</th>\n",
       "      <td>greek</td>\n",
       "      <td>10259</td>\n",
       "      <td>1</td>\n",
       "      <td>﻿black olives</td>\n",
       "    </tr>\n",
       "    <tr>\n",
       "      <th>2</th>\n",
       "      <td>greek</td>\n",
       "      <td>10259</td>\n",
       "      <td>1</td>\n",
       "      <td>﻿grape tomatoes</td>\n",
       "    </tr>\n",
       "    <tr>\n",
       "      <th>3</th>\n",
       "      <td>greek</td>\n",
       "      <td>10259</td>\n",
       "      <td>1</td>\n",
       "      <td>﻿garlic</td>\n",
       "    </tr>\n",
       "    <tr>\n",
       "      <th>4</th>\n",
       "      <td>greek</td>\n",
       "      <td>10259</td>\n",
       "      <td>1</td>\n",
       "      <td>﻿pepper</td>\n",
       "    </tr>\n",
       "  </tbody>\n",
       "</table>\n",
       "</div>"
      ],
      "text/plain": [
       "  cuisine cuisine_id id        ingredient\n",
       "0   greek      10259  1  ﻿romaine lettuce\n",
       "1   greek      10259  1     ﻿black olives\n",
       "2   greek      10259  1   ﻿grape tomatoes\n",
       "3   greek      10259  1           ﻿garlic\n",
       "4   greek      10259  1           ﻿pepper"
      ]
     },
     "execution_count": 2,
     "metadata": {},
     "output_type": "execute_result"
    }
   ],
   "source": [
    "# data = pd.read_json('D:\\\\dropbox_zeev\\\\Dropbox\\\\Naya -DS - June 2017\\\\Final Project\\\\train.json', encoding='utf-8-sig') #<-- for runnig the code at home\n",
    "data = pd.read_json('X:\\\\Zeev\\\\Python\\\\whats_cooking.json', encoding=\"utf-8\") # <-- For run the code at work \n",
    "i=0\n",
    "new_df_src = []\n",
    "while i < len(data['id']):\n",
    "    r_id=data['id'][i]\n",
    "    r_cuisine=data['cuisine'][i]\n",
    "    for ingrd in data['ingredients'][i]:\n",
    "        new_df_src.append({\n",
    "            \"id\":i+1,\n",
    "            \"cuisine_id\":r_id,\n",
    "            \"cuisine\": r_cuisine,\n",
    "            \"ingredient\": ingrd\n",
    "        })\n",
    "    i+=1\n",
    "data = pd.DataFrame.from_dict(new_df_src)\n",
    "data['ingredient'] = data['ingredient'].str.encode(\"utf-8-sig\", errors='strict') #encoding the DF\n",
    "data = data.apply(lambda x: x.astype(str).str.lower()) #converting all the df to lower case\n",
    "data = data.dropna(axis=1)\n",
    "data.head()"
   ]
  },
  {
   "cell_type": "code",
   "execution_count": 13,
   "metadata": {},
   "outputs": [
    {
     "data": {
      "text/html": [
       "<div>\n",
       "<style>\n",
       "    .dataframe thead tr:only-child th {\n",
       "        text-align: right;\n",
       "    }\n",
       "\n",
       "    .dataframe thead th {\n",
       "        text-align: left;\n",
       "    }\n",
       "\n",
       "    .dataframe tbody tr th {\n",
       "        vertical-align: top;\n",
       "    }\n",
       "</style>\n",
       "<table border=\"1\" class=\"dataframe\">\n",
       "  <thead>\n",
       "    <tr style=\"text-align: right;\">\n",
       "      <th></th>\n",
       "      <th>cuisine</th>\n",
       "      <th>cuisine_id</th>\n",
       "      <th>id</th>\n",
       "      <th>ingredient</th>\n",
       "    </tr>\n",
       "  </thead>\n",
       "  <tbody>\n",
       "    <tr>\n",
       "      <th>count</th>\n",
       "      <td>428275</td>\n",
       "      <td>428275</td>\n",
       "      <td>428275</td>\n",
       "      <td>428275</td>\n",
       "    </tr>\n",
       "    <tr>\n",
       "      <th>unique</th>\n",
       "      <td>20</td>\n",
       "      <td>39774</td>\n",
       "      <td>39774</td>\n",
       "      <td>6703</td>\n",
       "    </tr>\n",
       "    <tr>\n",
       "      <th>top</th>\n",
       "      <td>italian</td>\n",
       "      <td>3885</td>\n",
       "      <td>15290</td>\n",
       "      <td>﻿salt</td>\n",
       "    </tr>\n",
       "    <tr>\n",
       "      <th>freq</th>\n",
       "      <td>77667</td>\n",
       "      <td>65</td>\n",
       "      <td>65</td>\n",
       "      <td>18049</td>\n",
       "    </tr>\n",
       "  </tbody>\n",
       "</table>\n",
       "</div>"
      ],
      "text/plain": [
       "        cuisine cuisine_id      id ingredient\n",
       "count    428275     428275  428275     428275\n",
       "unique       20      39774   39774       6703\n",
       "top     italian       3885   15290      ﻿salt\n",
       "freq      77667         65      65      18049"
      ]
     },
     "execution_count": 13,
     "metadata": {},
     "output_type": "execute_result"
    }
   ],
   "source": [
    "data.describe()"
   ]
  },
  {
   "cell_type": "code",
   "execution_count": 12,
   "metadata": {},
   "outputs": [
    {
     "data": {
      "text/plain": [
       "ingredient\n",
       "﻿(    oz.) tomato sauce                                       11\n",
       "﻿(   oz.) tomato paste                                         9\n",
       "﻿(10 oz.) frozen chopped spinach                               3\n",
       "﻿(10 oz.) frozen chopped spinach, thawed and squeezed dry      2\n",
       "﻿(14 oz.) sweetened condensed milk                             2\n",
       "﻿(14.5 oz.) diced tomatoes                                     3\n",
       "﻿(15 oz.) refried beans                                        3\n",
       "﻿1% low-fat buttermilk                                         4\n",
       "﻿1% low-fat chocolate milk                                     2\n",
       "﻿1% low-fat cottage cheese                                    12\n",
       "﻿1% low-fat milk                                             193\n",
       "﻿2 1/2 to 3 lb. chicken, cut into serving pieces               2\n",
       "﻿2% low fat cheddar chees                                      1\n",
       "﻿2% low-fat cottage cheese                                     6\n",
       "﻿2% lowfat greek yogurt                                        2\n",
       "﻿2% milk shredded mozzarella cheese                            1\n",
       "﻿2% reduced-fat milk                                          71\n",
       "﻿25% less sodium chicken broth                                 3\n",
       "﻿33% less sodium cooked deli ham                               1\n",
       "﻿33% less sodium cooked ham                                    1\n",
       "﻿33% less sodium ham                                           3\n",
       "﻿33% less sodium smoked fully cooked ham                       1\n",
       "﻿40% less sodium taco seasoning                                7\n",
       "﻿40% less sodium taco seasoning mix                            5\n",
       "﻿7 up                                                          4\n",
       "﻿8 ounc ziti pasta, cook and drain                             1\n",
       "﻿95% lean ground beef                                          4\n",
       "﻿a taste of thai rice noodles                                  1\n",
       "﻿abalone                                                       2\n",
       "﻿abbamele                                                      1\n",
       "                                                            ... \n",
       "﻿yoghurt                                                     247\n",
       "﻿yoghurt natural low fat                                       1\n",
       "﻿yogurt cheese                                                 2\n",
       "﻿yogurt dressing                                               1\n",
       "﻿yogurt low fat                                                1\n",
       "﻿yolk                                                         14\n",
       "﻿yoplait                                                       1\n",
       "﻿yoplait® greek 100 blackberry pie yogurt                      1\n",
       "﻿yoplait® greek 2% caramel yogurt                              1\n",
       "﻿young coconut meat                                            2\n",
       "﻿young leeks                                                   1\n",
       "﻿young nettle                                                  1\n",
       "﻿yu choy                                                       3\n",
       "﻿yuca                                                          3\n",
       "﻿yucca                                                         3\n",
       "﻿yucca root                                                    1\n",
       "﻿yukon gold                                                    7\n",
       "﻿yukon gold potatoes                                         218\n",
       "﻿yuzu                                                          5\n",
       "﻿yuzu juice                                                    3\n",
       "﻿yuzukosho                                                     2\n",
       "﻿za'atar                                                       2\n",
       "﻿zatarains creole seasoning                                    1\n",
       "﻿zatarain’s jambalaya mix                                      1\n",
       "﻿zest                                                         10\n",
       "﻿zesty italian dressing                                       17\n",
       "﻿zinfandel                                                    10\n",
       "﻿ziti                                                         29\n",
       "﻿zucchini                                                    892\n",
       "﻿zucchini blossoms                                             2\n",
       "Name: id, Length: 6703, dtype: int64"
      ]
     },
     "execution_count": 12,
     "metadata": {},
     "output_type": "execute_result"
    }
   ],
   "source": [
    "# num of ingredient\n",
    "data.groupby('ingredient')['id'].nunique(dropna=True)#.sort_values(ascending=True)"
   ]
  },
  {
   "cell_type": "code",
   "execution_count": null,
   "metadata": {
    "collapsed": true
   },
   "outputs": [],
   "source": [
    "# Num countries\n",
    "len(data.groupby('cuisine')['cuisine'].count())"
   ]
  },
  {
   "cell_type": "code",
   "execution_count": null,
   "metadata": {
    "collapsed": true
   },
   "outputs": [],
   "source": [
    "# Num of recepices per country\n",
    "data.groupby('cuisine')['id'].nunique(dropna=True).sort_values(ascending=False)"
   ]
  },
  {
   "cell_type": "code",
   "execution_count": null,
   "metadata": {
    "collapsed": true
   },
   "outputs": [],
   "source": [
    "# histogram of recepies\n",
    "cuisine_per_country  = data.groupby('cuisine')['id'].nunique(dropna=True)#.sort_values(ascending=False)\n",
    "cuisine_per_country = cuisine_per_country.to_frame(name=None)\n",
    "cuisine_per_country.plot.hist(by=data,bins=150,figsize =(7.5,7.5),fontsize = 15)"
   ]
  },
  {
   "cell_type": "code",
   "execution_count": null,
   "metadata": {
    "collapsed": true
   },
   "outputs": [],
   "source": [
    "# The country with the most recepies\n",
    "print data.groupby(['cuisine'])['id'].count().argmax()"
   ]
  },
  {
   "cell_type": "code",
   "execution_count": null,
   "metadata": {
    "collapsed": true
   },
   "outputs": [],
   "source": [
    "New_df_src=[]\n",
    "i=0\n",
    "while i<len(data):\n",
    "    r = data[i]\n",
    "for ingrd in data_dic['ingredients']:\n",
    "    New_df_sec.add({\"id\": r['id'],\n",
    "                    \"cuisine\": r[\"cuisine\"],\n",
    "                    \"ingredient\": ingrd})\n",
    "    i+=1"
   ]
  },
  {
   "cell_type": "code",
   "execution_count": null,
   "metadata": {
    "collapsed": true
   },
   "outputs": [],
   "source": [
    "from collections import OrderedDict, defaultdict\n",
    "data_dic=data.to_dict('split')\n",
    "data_dic\n",
    "\n"
   ]
  },
  {
   "cell_type": "code",
   "execution_count": null,
   "metadata": {
    "collapsed": true
   },
   "outputs": [],
   "source": [
    "# from sklearn.feature_extraction.text import CountVectorizer\n",
    "# from sklearn import svm\n",
    "# ingredient_list = data['ingredients'].tolist()\n",
    "# vectorizer = CountVectorizer()\n",
    "# ingredient_list1 = [' '.join(j for j in i) for i in ingredient_list]\n",
    "# x = vectorizer.fit_transform(ingredient_list1)\n",
    "# ingredient_list2 = data_test['ingredients'].tolist()\n",
    "# ingredient_list2 = [' '.join(j for j in i) for i in ingredient_list2]\n",
    "# X_test = vectorizer.transform(ingredient_list2)\n",
    "# y = data_train.cuisine"
   ]
  },
  {
   "cell_type": "code",
   "execution_count": null,
   "metadata": {
    "collapsed": true
   },
   "outputs": [],
   "source": [
    "# clg = svm.SVC(kernel='linear',C=0.4)\n",
    "# final = clg.fit(x,y)\n",
    "# output = pd.Series(final.predict(x_test))\n",
    "# ids = data_test.id\n",
    "# submit = pd.concat([ids,output],axis=1)\n",
    "# submit.head()"
   ]
  },
  {
   "cell_type": "code",
   "execution_count": null,
   "metadata": {
    "collapsed": true
   },
   "outputs": [],
   "source": [
    "for x in data['ingredients'][0:10].str.split(pat=\",\", n=-1, expand=False):\n",
    "#     if x not in ingredients_unique:\n",
    "#         ingredients_unique.append(x)\n",
    "        print \"{:<20}\\n\".format(*x) #data.ingredients.unique()\n",
    "        \n",
    "#         \n",
    "\n",
    "\n",
    "# print data.ingredients.unique()"
   ]
  },
  {
   "cell_type": "code",
   "execution_count": null,
   "metadata": {
    "collapsed": true
   },
   "outputs": [],
   "source": [
    "# # data['ingredients']\n",
    "# print \"{}\\n\".format(data['ingredients'].str.split(pat=\",\", n=0, expand=True))"
   ]
  },
  {
   "cell_type": "code",
   "execution_count": null,
   "metadata": {
    "collapsed": true
   },
   "outputs": [],
   "source": [
    "# from sklearn.feature_extraction import DictVectorizer\n",
    "# vec = DictVectorizer()\n",
    "# vec1 = vec.fit_transform(data['ingredients'].str).toarray()\n",
    "# print vec1"
   ]
  },
  {
   "cell_type": "code",
   "execution_count": null,
   "metadata": {
    "collapsed": true
   },
   "outputs": [],
   "source": [
    "s = data.ingredients.str.split('\\s+').apply(pd.Series).unstack().T.dropna().reset_index(1,drop=True)"
   ]
  },
  {
   "cell_type": "code",
   "execution_count": null,
   "metadata": {
    "collapsed": true
   },
   "outputs": [],
   "source": [
    "s1 = s.to_frame(name='sep_ingredients')\n",
    "s1.head"
   ]
  },
  {
   "cell_type": "code",
   "execution_count": null,
   "metadata": {
    "collapsed": true
   },
   "outputs": [],
   "source": [
    " print data.merge(s1, how='left', right_index=True, left_index=True, indicator = True),#validate='many_to_one')\n",
    "# print data"
   ]
  },
  {
   "cell_type": "code",
   "execution_count": null,
   "metadata": {
    "collapsed": true
   },
   "outputs": [],
   "source": [
    "# print test.get_dummies()\n",
    "test_df = pd.DataFrame.from_records(test,columns =['cuisine','id','ingredients','sep_ingredients','merge'] )\n",
    "print test_df"
   ]
  }
 ],
 "metadata": {
  "kernelspec": {
   "display_name": "Python 2",
   "language": "python",
   "name": "python2"
  },
  "language_info": {
   "codemirror_mode": {
    "name": "ipython",
    "version": 2
   },
   "file_extension": ".py",
   "mimetype": "text/x-python",
   "name": "python",
   "nbconvert_exporter": "python",
   "pygments_lexer": "ipython2",
   "version": "2.7.13"
  }
 },
 "nbformat": 4,
 "nbformat_minor": 2
}
